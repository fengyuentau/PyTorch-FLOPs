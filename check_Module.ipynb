{
 "cells": [
  {
   "cell_type": "code",
   "execution_count": 1,
   "metadata": {},
   "outputs": [],
   "source": [
    "import sys\n",
    "assert sys.version_info[0] == 3, 'The major version of Python must be 3 to run this notebook.'"
   ]
  },
  {
   "cell_type": "code",
   "execution_count": 2,
   "metadata": {},
   "outputs": [],
   "source": [
    "import flops_counter\n",
    "import flops_counter.nn as nn\n",
    "from flops_counter.tensorsize import TensorSize"
   ]
  },
  {
   "cell_type": "code",
   "execution_count": 3,
   "metadata": {},
   "outputs": [],
   "source": [
    "# input\n",
    "x = TensorSize(1, 3, 224, 224)"
   ]
  },
  {
   "cell_type": "code",
   "execution_count": 4,
   "metadata": {},
   "outputs": [
    {
     "name": "stdout",
     "output_type": "stream",
     "text": [
      "flops_counter.TensorSize([1, 64, 224, 224])\n",
      "173408256\n",
      "flops_counter.TensorSize([1, 64, 224, 224])\n",
      "173408256\n"
     ]
    }
   ],
   "source": [
    "# single definition\n",
    "conv1 = nn.Conv2d(3, 64, 3, 1, 1)\n",
    "y = conv1(x)\n",
    "print(y)\n",
    "print(conv1.flops)\n",
    "conv1.set_flops_zero()\n",
    "y = conv1(x)\n",
    "print(y)\n",
    "print(conv1.flops)"
   ]
  },
  {
   "cell_type": "code",
   "execution_count": 5,
   "metadata": {},
   "outputs": [
    {
     "name": "stdout",
     "output_type": "stream",
     "text": [
      "flops_counter.TensorSize([1, 64, 224, 224])\n",
      "Sequential(\n",
      "  (0): Conv2d(3, 64, kernel_size=(3, 3), padding=(1, 1)), FLOPs = 173,408,256, input = flops_counter.TensorSize([1, 3, 224, 224]), output = flops_counter.TensorSize([1, 64, 224, 224])\n",
      "  (1): ReLU(inplace=False), FLOPs = 6,422,528, input = flops_counter.TensorSize([1, 64, 224, 224]), output = flops_counter.TensorSize([1, 64, 224, 224])\n",
      "), FLOPs = 179,830,784, input = flops_counter.TensorSize([1, 3, 224, 224]), output = flops_counter.TensorSize([1, 64, 224, 224])\n",
      "flops_counter.TensorSize([1, 64, 224, 224])\n",
      "Sequential(\n",
      "  (0): Conv2d(3, 64, kernel_size=(3, 3), padding=(1, 1)), FLOPs = 173,408,256, input = flops_counter.TensorSize([1, 3, 224, 224]), output = flops_counter.TensorSize([1, 64, 224, 224])\n",
      "  (1): ReLU(inplace=False), FLOPs = 6,422,528, input = flops_counter.TensorSize([1, 64, 224, 224]), output = flops_counter.TensorSize([1, 64, 224, 224])\n",
      "), FLOPs = 179,830,784, input = flops_counter.TensorSize([1, 3, 224, 224]), output = flops_counter.TensorSize([1, 64, 224, 224])\n"
     ]
    }
   ],
   "source": [
    "module = nn.Sequential(\n",
    "    *[nn.Conv2d(3,64,3,1,1),\n",
    "      nn.ReLU()]\n",
    ")\n",
    "y = module(x)\n",
    "print(y)\n",
    "print(module)\n",
    "module.set_flops_zero()\n",
    "y = module(x)\n",
    "print(y)\n",
    "print(module)"
   ]
  },
  {
   "cell_type": "code",
   "execution_count": 6,
   "metadata": {},
   "outputs": [
    {
     "name": "stdout",
     "output_type": "stream",
     "text": [
      "flops_counter.TensorSize([1, 64, 224, 224])\n",
      "SimpleNet(\n",
      "  (conv1): Conv2d(3, 64, kernel_size=(3, 3), padding=(1, 1)), FLOPs = 173,408,256, input = flops_counter.TensorSize([1, 3, 224, 224]), output = flops_counter.TensorSize([1, 64, 224, 224])\n",
      "  (relu1): ReLU(inplace=False), FLOPs = 6,422,528, input = flops_counter.TensorSize([1, 64, 224, 224]), output = flops_counter.TensorSize([1, 64, 224, 224])\n",
      "), FLOPs = 179,830,784, input = flops_counter.TensorSize([1, 3, 224, 224]), output = flops_counter.TensorSize([1, 64, 224, 224])\n",
      "flops_counter.TensorSize([1, 64, 224, 224])\n",
      "SimpleNet(\n",
      "  (conv1): Conv2d(3, 64, kernel_size=(3, 3), padding=(1, 1)), FLOPs = 173,408,256, input = flops_counter.TensorSize([1, 3, 224, 224]), output = flops_counter.TensorSize([1, 64, 224, 224])\n",
      "  (relu1): ReLU(inplace=False), FLOPs = 6,422,528, input = flops_counter.TensorSize([1, 64, 224, 224]), output = flops_counter.TensorSize([1, 64, 224, 224])\n",
      "), FLOPs = 179,830,784, input = flops_counter.TensorSize([1, 3, 224, 224]), output = flops_counter.TensorSize([1, 64, 224, 224])\n"
     ]
    }
   ],
   "source": [
    "class SimpleNet(nn.Module):\n",
    "    def __init__(self):\n",
    "        super(SimpleNet, self).__init__()\n",
    "        \n",
    "        self.conv1 = nn.Conv2d(3, 64, 3, 1, 1)\n",
    "        self.relu1 = nn.ReLU()\n",
    "\n",
    "    def forward(self, x):\n",
    "        out = self.conv1(x)\n",
    "        out = self.relu1(out)\n",
    "        return out\n",
    "\n",
    "simplenet = SimpleNet()\n",
    "y = simplenet(x)\n",
    "print(y)\n",
    "print(simplenet)\n",
    "\n",
    "simplenet.set_flops_zero()\n",
    "\n",
    "y = simplenet(x)\n",
    "print(y)\n",
    "print(simplenet)\n"
   ]
  },
  {
   "cell_type": "raw",
   "metadata": {},
   "source": [
    "conv2 = nn.Conv2d(3, 64, 224, 224)\n",
    "print(isinstance(conv2, nn.Module))"
   ]
  },
  {
   "cell_type": "code",
   "execution_count": 8,
   "metadata": {},
   "outputs": [
    {
     "name": "stdout",
     "output_type": "stream",
     "text": [
      "DoubleNet(\n",
      "  (sn1): SimpleNet(\n",
      "    (conv1): Conv2d(3, 64, kernel_size=(3, 3), padding=(1, 1)), FLOPs = 173,408,256, input = flops_counter.TensorSize([1, 3, 224, 224]), output = flops_counter.TensorSize([1, 64, 224, 224])\n",
      "    (relu1): ReLU(inplace=False), FLOPs = 6,422,528, input = flops_counter.TensorSize([1, 64, 224, 224]), output = flops_counter.TensorSize([1, 64, 224, 224])\n",
      "  ), FLOPs = 179,830,784, input = flops_counter.TensorSize([1, 3, 224, 224]), output = flops_counter.TensorSize([1, 64, 224, 224])\n",
      "  (sn2): Conv2d(64, 3, kernel_size=(1, 1)), FLOPs = 19,267,584, input = flops_counter.TensorSize([1, 64, 224, 224]), output = flops_counter.TensorSize([1, 3, 224, 224])\n",
      "), FLOPs = 199,098,368, input = flops_counter.TensorSize([1, 3, 224, 224]), output = flops_counter.TensorSize([1, 3, 224, 224])\n",
      "DoubleNet(\n",
      "  (sn1): SimpleNet(\n",
      "    (conv1): Conv2d(3, 64, kernel_size=(3, 3), padding=(1, 1)), FLOPs = 173,408,256, input = flops_counter.TensorSize([1, 3, 224, 224]), output = flops_counter.TensorSize([1, 64, 224, 224])\n",
      "    (relu1): ReLU(inplace=False), FLOPs = 6,422,528, input = flops_counter.TensorSize([1, 64, 224, 224]), output = flops_counter.TensorSize([1, 64, 224, 224])\n",
      "  ), FLOPs = 179,830,784, input = flops_counter.TensorSize([1, 3, 224, 224]), output = flops_counter.TensorSize([1, 64, 224, 224])\n",
      "  (sn2): Conv2d(64, 3, kernel_size=(1, 1)), FLOPs = 19,267,584, input = flops_counter.TensorSize([1, 64, 224, 224]), output = flops_counter.TensorSize([1, 3, 224, 224])\n",
      "), FLOPs = 199,098,368, input = flops_counter.TensorSize([1, 3, 224, 224]), output = flops_counter.TensorSize([1, 3, 224, 224])\n"
     ]
    }
   ],
   "source": [
    "class DoubleNet(nn.Module):\n",
    "    def __init__(self):\n",
    "        super(DoubleNet, self).__init__()\n",
    "        \n",
    "        self.sn1 = SimpleNet()\n",
    "        self.sn2 = nn.Conv2d(64, 3, 1, 1)\n",
    "\n",
    "    def forward(self, x):\n",
    "        out = self.sn1(x)\n",
    "        out = self.sn2(out)\n",
    "        \n",
    "        return x\n",
    "    \n",
    "dn = DoubleNet()\n",
    "y = dn(x)\n",
    "# print(y)\n",
    "print(dn)\n",
    "\n",
    "dn.set_flops_zero()\n",
    "\n",
    "y = dn(x)\n",
    "# print(y)\n",
    "print(dn)"
   ]
  },
  {
   "cell_type": "code",
   "execution_count": null,
   "metadata": {},
   "outputs": [],
   "source": []
  }
 ],
 "metadata": {
  "kernelspec": {
   "display_name": "Python 3",
   "language": "python",
   "name": "python3"
  },
  "language_info": {
   "codemirror_mode": {
    "name": "ipython",
    "version": 3
   },
   "file_extension": ".py",
   "mimetype": "text/x-python",
   "name": "python",
   "nbconvert_exporter": "python",
   "pygments_lexer": "ipython3",
   "version": "3.7.2"
  }
 },
 "nbformat": 4,
 "nbformat_minor": 2
}
